{
 "cells": [
  {
   "cell_type": "code",
   "execution_count": 1,
   "id": "ancient-victim",
   "metadata": {},
   "outputs": [],
   "source": [
    "from numpy import load\n",
    "from numpy import zeros\n",
    "from numpy import ones\n",
    "from numpy.random import randint\n",
    "import tensorflow as tf\n",
    "from tensorflow.keras.optimizers import Adam\n",
    "from tensorflow.keras.initializers import RandomNormal\n",
    "from tensorflow.keras.models import Model\n",
    "from tensorflow.keras import Input\n",
    "from tensorflow.keras.layers import Conv2D\n",
    "from tensorflow.keras.layers import Conv2DTranspose\n",
    "from tensorflow.keras.layers import LeakyReLU\n",
    "from tensorflow.keras.layers import Activation\n",
    "from tensorflow.keras.layers import Concatenate\n",
    "from tensorflow.keras.layers import Dropout\n",
    "from tensorflow.keras.layers import BatchNormalization\n",
    "from tensorflow.keras.layers import LeakyReLU\n",
    "from matplotlib import pyplot\n",
    "from keras import backend as K\n",
    "import pandas as pd\n",
    "import numpy as np\n",
    "import matplotlib.pyplot as plt\n",
    "from numpy import loadtxt\n",
    "from keras.models import load_model"
   ]
  },
  {
   "cell_type": "code",
   "execution_count": 2,
   "id": "substantial-mitchell",
   "metadata": {},
   "outputs": [],
   "source": [
    "# load and prepare training images\n",
    "def load_real_samples(filename):\n",
    "    # load compressed arrays\n",
    "    data = load(filename)\n",
    "    # unpack arrays\n",
    "    X1, X2 = data['arr_0'], data['arr_1']\n",
    "    # scale from [0,255] to [-1,1]\n",
    "    X1 = (X1 - 127.5) / 127.5\n",
    "    X2 = (X2 - 127.5) / 127.5\n",
    "    return [X1, X2]"
   ]
  },
  {
   "cell_type": "code",
   "execution_count": 3,
   "id": "sacred-range",
   "metadata": {
    "tags": []
   },
   "outputs": [
    {
     "name": "stdout",
     "output_type": "stream",
     "text": [
      "Loaded (500, 256, 256, 3) (500, 256, 256, 3)\n"
     ]
    }
   ],
   "source": [
    "# load image data\n",
    "dataset_org= load_real_samples('crossing_touching_G banded chromsome_data.npz')\n",
    "print('Loaded', dataset_org[0].shape, dataset_org[1].shape)"
   ]
  },
  {
   "cell_type": "code",
   "execution_count": 4,
   "id": "complimentary-appreciation",
   "metadata": {},
   "outputs": [
    {
     "name": "stdout",
     "output_type": "stream",
     "text": [
      "Loaded (500, 256, 256, 3) (500, 256, 256, 3)\n"
     ]
    }
   ],
   "source": [
    "temp0= dataset_org[0]\n",
    "temp1 = dataset_org[1]\n",
    "print('Loaded', temp0.shape,temp1.shape)"
   ]
  },
  {
   "cell_type": "code",
   "execution_count": 5,
   "id": "prerequisite-paste",
   "metadata": {},
   "outputs": [
    {
     "name": "stdout",
     "output_type": "stream",
     "text": [
      "Loaded (400, 256, 256, 3) (400, 256, 256, 3)\n"
     ]
    }
   ],
   "source": [
    "d1 = temp0[0:400,:,:,:]\n",
    "d2 = temp1[0:400,:,:,:]\n",
    "dataset = (d1,d2)\n",
    "\n",
    "print('Loaded', d1.shape, d2.shape)"
   ]
  },
  {
   "cell_type": "code",
   "execution_count": 6,
   "id": "f9539c5d-c8e3-4be1-9990-af5f086115d5",
   "metadata": {},
   "outputs": [
    {
     "name": "stdout",
     "output_type": "stream",
     "text": [
      "Loaded (400, 256, 256, 3) (400, 256, 256, 3)\n"
     ]
    }
   ],
   "source": [
    "print('Loaded', dataset[0].shape, dataset[1].shape)"
   ]
  },
  {
   "cell_type": "code",
   "execution_count": 7,
   "id": "2e5c51c5-2044-49bf-bfad-a98cdeb5468e",
   "metadata": {},
   "outputs": [
    {
     "name": "stdout",
     "output_type": "stream",
     "text": [
      "Loaded (100, 256, 256, 3) (100, 256, 256, 3)\n"
     ]
    }
   ],
   "source": [
    "t1 = temp0[400: 500,:,:,:]\n",
    "t2 = temp1[400: 500,:,:,:]\n",
    "test = (t1,t2)\n",
    "print('Loaded', t1.shape,t2.shape)"
   ]
  },
  {
   "cell_type": "code",
   "execution_count": 8,
   "id": "combined-maldives",
   "metadata": {
    "tags": []
   },
   "outputs": [
    {
     "name": "stdout",
     "output_type": "stream",
     "text": [
      "WARNING:tensorflow:No training configuration found in the save file, so the model was *not* compiled. Compile it manually.\n"
     ]
    }
   ],
   "source": [
    "# load model\n",
    "g_model = load_model('./model/model_040000.h5')\n",
    "# summarize model.\n",
    "#g_model.summary()"
   ]
  },
  {
   "cell_type": "code",
   "execution_count": 9,
   "id": "7bf84180-7df0-4528-aca8-098cf58faec4",
   "metadata": {},
   "outputs": [],
   "source": [
    "\n",
    "#A few useful metrics and losses\n",
    "\n",
    "\n",
    "def dice_coef(y_true, y_pred):\n",
    "    y_true_f = K.flatten(y_true)\n",
    "    y_pred_f = K.flatten(y_pred)\n",
    "    intersection = K.sum(y_true_f * y_pred_f)\n",
    "    return (2.0 * intersection + 1.0) / (K.sum(y_true_f) + K.sum(y_pred_f) + 1.0)\n",
    "\n",
    "\n",
    "def jacard_coef(y_true, y_pred):\n",
    "    y_true_f = K.flatten(y_true)\n",
    "    y_pred_f = K.flatten(y_pred)\n",
    "    intersection = K.sum(y_true_f * y_pred_f)\n",
    "    return (intersection + 1.0) / ((K.sum(y_true_f) + K.sum(y_pred_f) - intersection) + 1.0)\n",
    "\n",
    "\n",
    "def precision(y_true, y_pred):\n",
    "    smooth = 1\n",
    "    y_pred_pos = K.clip(y_pred, 0, 1)\n",
    "    y_pos = K.clip(y_true, 0, 1)\n",
    "    y_neg = 1 - y_pos\n",
    "    tp = K.sum(y_pos * y_pred_pos)\n",
    "    fp = K.sum(y_neg * y_pred_pos)\n",
    "    prec = (tp + smooth) / (tp + fp + smooth)\n",
    "    return prec\n",
    "\n",
    "def recall(y_true, y_pred):\n",
    "    smooth = 1\n",
    "    y_pred_pos = K.clip(y_pred, 0, 1)\n",
    "    y_pred_neg = 1 - y_pred_pos\n",
    "    y_pos = K.clip(y_true, 0, 1)\n",
    "    tp = K.sum(y_pos * y_pred_pos)\n",
    "    fn = K.sum(y_pos * y_pred_neg)\n",
    "    recall = (tp + smooth) / (tp + fn + smooth)\n",
    "    return recall\n",
    "\n",
    "\n",
    "def true_positive(y_true, y_pred):\n",
    "    smooth = 1\n",
    "    y_pred_pos = K.round(K.clip(y_pred, 0, 1))\n",
    "    y_pos = K.round(K.clip(y_true, 0, 1))\n",
    "    tp = (K.sum(y_pos * y_pred_pos) + smooth) / (K.sum(y_pos) + smooth)\n",
    "    return tp\n",
    "\n",
    "def true_negative(y_true, y_pred):\n",
    "    smooth = 1\n",
    "    y_pred_pos = K.round(K.clip(y_pred, 0, 1))\n",
    "    y_pred_neg = 1 - y_pred_pos\n",
    "    y_pos = K.round(K.clip(y_true, 0, 1))\n",
    "    y_neg = 1 - y_pos\n",
    "    tn = (K.sum(y_neg * y_pred_neg) + smooth) / (K.sum(y_neg) + smooth)\n",
    "    return tn\n",
    "\n",
    "\n",
    "def false_positive(y_true, y_pred):\n",
    "    smooth = 1\n",
    "    y_pred_pos = K.round(K.clip(y_pred, 0, 1))\n",
    "    y_pos = K.round(K.clip(y_true, 0, 1))\n",
    "    y_neg = 1 - y_pos\n",
    "    tp = (K.sum(y_neg * y_pred_pos) + smooth) / (K.sum(y_neg) + smooth)\n",
    "    return tp\n",
    "\n",
    "def false_negative(y_true, y_pred):\n",
    "    smooth = 1\n",
    "    y_pred_pos = K.round(K.clip(y_pred, 0, 1))\n",
    "    y_pred_neg = 1 - y_pred_pos\n",
    "    y_pos = K.round(K.clip(y_true, 0, 1))\n",
    "    y_neg = 1 - y_pos\n",
    "    tn = (K.sum(y_pos * y_pred_neg) + smooth) / (K.sum(y_pos) + smooth)\n",
    "    return tn\n",
    "\n",
    "\n",
    "def accuracy(y_true, y_pred):\n",
    "    smooth = 1\n",
    "    y_pred_pos = K.clip(y_pred, 0, 1)\n",
    "    y_pred_neg = 1 - y_pred_pos\n",
    "    y_pos = K.clip(y_true, 0, 1)\n",
    "    y_neg = 1 - y_pos\n",
    "    tp = K.sum(y_pos * y_pred_pos)\n",
    "    fp = K.sum(y_neg * y_pred_pos)\n",
    "    fn = K.sum(y_pos * y_pred_neg)\n",
    "    tn = K.sum(y_neg * y_pred_neg)\n",
    "    acc = (tp+tn + smooth) / (tp + tn + fn + fp + smooth)\n",
    "    return acc"
   ]
  },
  {
   "cell_type": "code",
   "execution_count": 10,
   "id": "e33a93ba-afa5-4c3a-ab41-c80224cf4fdf",
   "metadata": {},
   "outputs": [],
   "source": [
    "dice = []\n",
    "iou = []\n",
    "\n",
    "rec= []\n",
    "prec = []\n",
    "\n",
    "tpr_data = []\n",
    "fpr_data = []\n",
    "fnr_data = []\n",
    "tnr_data = []\n",
    "acc_data = []\n",
    "\n",
    "predictions = g_model.predict(t1[0:100,:,:,:])\n",
    "\n",
    "for i in range(len(predictions)):\n",
    "    predictions[i] = (predictions[i]+1)/2\n",
    "    t2[i:i+1,:,:,:] = (t2[i:i+1,:,:,:][0]+1)/2\n",
    "    \n",
    "   \n",
    "    iou.append(jacard_coef(predictions[i],t2[i:i+1,:,:,:]))\n",
    "    dice.append(dice_coef(predictions[i],t2[i:i+1,:,:,:]))\n",
    "   \n",
    "    rec.append(recall(predictions[i],t2[i:i+1,:,:,:]))\n",
    "    prec.append(precision(predictions[i],t2[i:i+1,:,:,:])) \n",
    "    tpr_data.append(true_positive(predictions[i],t2[i:i+1,:,:,:]))\n",
    "    fpr_data.append(false_positive(predictions[i],t2[i:i+1,:,:,:]))\n",
    "    tnr_data.append(true_negative(predictions[i],t2[i:i+1,:,:,:]))\n",
    "    fnr_data.append(false_negative(predictions[i],t2[i:i+1,:,:,:]))\n",
    "    acc_data.append(accuracy(predictions[i],t2[i:i+1,:,:,:]))"
   ]
  },
  {
   "cell_type": "code",
   "execution_count": 11,
   "id": "572b06bc-c982-4a89-a3a1-a4c27400bc5f",
   "metadata": {},
   "outputs": [
    {
     "name": "stdout",
     "output_type": "stream",
     "text": [
      "Accuracy :  0.93389964\n",
      "Precision :  0.95921713\n",
      "Recall :  0.9590068\n",
      "TPR :  0.9602261\n",
      "FPR:  0.1940833\n",
      "FNR:  0.039779928\n",
      "TNR:  0.8059505\n",
      "IOU:  0.92340326\n",
      "DICE:  0.9591061\n"
     ]
    }
   ],
   "source": [
    "print(\"Accuracy : \", np.mean(acc_data))\n",
    "print(\"Precision : \", np.mean(prec))\n",
    "print(\"Recall : \", np.mean(rec))\n",
    "print(\"TPR : \", np.mean(tpr_data))\n",
    "print(\"FPR: \", np.mean(fpr_data))\n",
    "print(\"FNR: \", np.mean(fnr_data))\n",
    "print(\"TNR: \", np.mean(tnr_data))\n",
    "print(\"IOU: \", np.mean(iou))\n",
    "print(\"DICE: \", np.mean(dice))"
   ]
  },
  {
   "cell_type": "code",
   "execution_count": null,
   "id": "3b9c1ed7-90f5-4613-afb2-354259fd5d7e",
   "metadata": {},
   "outputs": [],
   "source": []
  }
 ],
 "metadata": {
  "kernelspec": {
   "display_name": "Python 3 (ipykernel)",
   "language": "python",
   "name": "python3"
  },
  "language_info": {
   "codemirror_mode": {
    "name": "ipython",
    "version": 3
   },
   "file_extension": ".py",
   "mimetype": "text/x-python",
   "name": "python",
   "nbconvert_exporter": "python",
   "pygments_lexer": "ipython3",
   "version": "3.7.11"
  }
 },
 "nbformat": 4,
 "nbformat_minor": 5
}
