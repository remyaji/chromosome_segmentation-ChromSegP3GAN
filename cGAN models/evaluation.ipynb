{
 "cells": [
  {
   "cell_type": "code",
   "execution_count": 1,
   "id": "8d7b63fd",
   "metadata": {
    "id": "8d7b63fd"
   },
   "outputs": [],
   "source": [
    "import os\n",
    "import cv2\n",
    "import torch\n",
    "from torch.utils.data import DataLoader\n",
    "import matplotlib.pyplot as plt\n",
    "import torchvision.transforms as transforms"
   ]
  },
  {
   "cell_type": "code",
   "execution_count": 2,
   "id": "a9ee761d",
   "metadata": {
    "id": "a9ee761d"
   },
   "outputs": [],
   "source": [
    "class Dataset(torch.utils.data.Dataset):\n",
    "\n",
    "    def __init__(self, dir_path, transform=None):\n",
    "\n",
    "        self.dir_path = dir_path\n",
    "        self.transform = transform\n",
    "\n",
    "\n",
    "        self.data= list(sorted(os.listdir(os.path.join(dir_path, \"gt_vis\"))))\n",
    "        self.annotation= list(sorted(os.listdir(os.path.join(dir_path, \"pred_vis\"))))\n",
    "\n",
    "    def __len__(self):\n",
    "      return len(self.annotation)\n",
    "\n",
    "\n",
    "    def __getitem__(self, idx):\n",
    "\n",
    "\n",
    "        img_path = os.path.join(self.dir_path, \"gt_vis\", self.data[idx])\n",
    "        ann_path = os.path.join(self.dir_path, \"pred_vis\", self.annotation[idx])\n",
    "        image = cv2.imread(img_path)            \n",
    "        label = cv2.imread(ann_path)\n",
    "\n",
    "        if self.transform:\n",
    "          image, label = self.transform(image, label)\n",
    "        \n",
    "\n",
    "        return image, label\n",
    "        "
   ]
  },
  {
   "cell_type": "code",
   "execution_count": 3,
   "id": "284c29e2",
   "metadata": {
    "id": "284c29e2"
   },
   "outputs": [],
   "source": [
    "class Compose(object):\n",
    "    def __init__(self, transforms):\n",
    "        self.transforms = transforms\n",
    "\n",
    "    def __call__(self, img, label):\n",
    "        for t in self.transforms:\n",
    "            img, label = t(img), t(label)\n",
    "\n",
    "        return img, label\n",
    "\n",
    "    \n",
    "#orginal dataset\n",
    "orginal_transform = Compose([\n",
    "    transforms.ToPILImage(),\n",
    "    transforms.ToTensor(),\n",
    "  \n",
    "])"
   ]
  },
  {
   "cell_type": "code",
   "execution_count": 4,
   "id": "522f7f05",
   "metadata": {
    "id": "522f7f05",
    "outputId": "22a3fd25-10fd-441e-fda1-dee83c33ab22"
   },
   "outputs": [
    {
     "name": "stdout",
     "output_type": "stream",
     "text": [
      "torch.Size([128, 128, 3])\n",
      "torch.Size([128, 128, 3])\n"
     ]
    },
    {
     "data": {
      "image/png": "[encoded data removed]",
      "text/plain": [
       "<Figure size 432x288 with 1 Axes>"
      ]
     },
     "metadata": {
      "needs_background": "light"
     },
     "output_type": "display_data"
    },
    {
     "data": {
      "image/png": "[encoded data removed]",
      "text/plain": [
       "<Figure size 432x288 with 1 Axes>"
      ]
     },
     "metadata": {
      "needs_background": "light"
     },
     "output_type": "display_data"
    }
   ],
   "source": [
    "dataset= Dataset(dir_path= \"./results/\",transform= orginal_transform)\n",
    "loader = DataLoader(dataset=dataset, batch_size=1, shuffle=True)\n",
    "for x, y in loader:\n",
    "    \n",
    "    x= x[0].permute(1, 2, 0)\n",
    "    y= y[0].permute(1, 2, 0)\n",
    "    \n",
    "    \n",
    "    print(x.shape)\n",
    "    print(y.shape)\n",
    "\n",
    "    fig, ax = plt.subplots(1)\n",
    "    ax.imshow(x)\n",
    "\n",
    "    fig, ax = plt.subplots(1)\n",
    "    ax.imshow(y)\n",
    "    \n",
    "    break"
   ]
  },
  {
   "cell_type": "code",
   "execution_count": 5,
   "id": "821cf396-d239-4aae-b719-3ca87c2c5a84",
   "metadata": {},
   "outputs": [],
   "source": [
    "import tensorflow as tf\n",
    "from tensorflow.keras import models, layers, regularizers\n",
    "from tensorflow.keras import backend as K\n",
    "\n",
    "\n",
    "\n",
    "def dice_coef(y_true, y_pred):\n",
    "    y_true_f = K.flatten(y_true)\n",
    "    y_pred_f = K.flatten(y_pred)\n",
    "    intersection = K.sum(y_true_f * y_pred_f)\n",
    "    return (2.0 * intersection + 1.0) / (K.sum(y_true_f) + K.sum(y_pred_f) + 1.0)\n",
    "\n",
    "\n",
    "def jacard_coef(y_true, y_pred):\n",
    "    y_true_f = K.flatten(y_true)\n",
    "    y_pred_f = K.flatten(y_pred)\n",
    "    intersection = K.sum(y_true_f * y_pred_f)\n",
    "    return (intersection + 1.0) / ((K.sum(y_true_f) + K.sum(y_pred_f) - intersection) + 1.0)\n",
    "\n",
    "\n",
    "def precision(y_true, y_pred):\n",
    "    smooth = 1\n",
    "    y_pred_pos = K.clip(y_pred, 0, 1)\n",
    "    y_pos = K.clip(y_true, 0, 1)\n",
    "    y_neg = 1 - y_pos\n",
    "    tp = K.sum(y_pos * y_pred_pos)\n",
    "    fp = K.sum(y_neg * y_pred_pos)\n",
    "    prec = (tp + smooth) / (tp + fp + smooth)\n",
    "    return prec\n",
    "\n",
    "def recall(y_true, y_pred):\n",
    "    smooth = 1\n",
    "    y_pred_pos = K.clip(y_pred, 0, 1)\n",
    "    y_pred_neg = 1 - y_pred_pos\n",
    "    y_pos = K.clip(y_true, 0, 1)\n",
    "    tp = K.sum(y_pos * y_pred_pos)\n",
    "    fn = K.sum(y_pos * y_pred_neg)\n",
    "    recall = (tp + smooth) / (tp + fn + smooth)\n",
    "    return recall\n",
    "\n",
    "def true_positive(y_true, y_pred):\n",
    "    smooth = 1\n",
    "    y_pred_pos = K.round(K.clip(y_pred, 0, 1))\n",
    "    y_pos = K.round(K.clip(y_true, 0, 1))\n",
    "    tp = (K.sum(y_pos * y_pred_pos) + smooth) / (K.sum(y_pos) + smooth)\n",
    "    return tp\n",
    "\n",
    "def true_negative(y_true, y_pred):\n",
    "    smooth = 1\n",
    "    y_pred_pos = K.round(K.clip(y_pred, 0, 1))\n",
    "    y_pred_neg = 1 - y_pred_pos\n",
    "    y_pos = K.round(K.clip(y_true, 0, 1))\n",
    "    y_neg = 1 - y_pos\n",
    "    tn = (K.sum(y_neg * y_pred_neg) + smooth) / (K.sum(y_neg) + smooth)\n",
    "    return tn\n",
    "\n",
    "\n",
    "def false_positive(y_true, y_pred):\n",
    "    smooth = 1\n",
    "    y_pred_pos = K.round(K.clip(y_pred, 0, 1))\n",
    "    y_pos = K.round(K.clip(y_true, 0, 1))\n",
    "    y_neg = 1 - y_pos\n",
    "    tp = (K.sum(y_neg * y_pred_pos) + smooth) / (K.sum(y_neg) + smooth)\n",
    "    return tp\n",
    "\n",
    "def false_negative(y_true, y_pred):\n",
    "    smooth = 1\n",
    "    y_pred_pos = K.round(K.clip(y_pred, 0, 1))\n",
    "    y_pred_neg = 1 - y_pred_pos\n",
    "    y_pos = K.round(K.clip(y_true, 0, 1))\n",
    "    y_neg = 1 - y_pos\n",
    "    tn = (K.sum(y_pos * y_pred_neg) + smooth) / (K.sum(y_pos) + smooth)\n",
    "    return tn\n",
    "\n",
    "def accuracy(y_true, y_pred):\n",
    "    smooth = 1\n",
    "    y_pred_pos = K.clip(y_pred, 0, 1)\n",
    "    y_pred_neg = 1 - y_pred_pos\n",
    "    y_pos = K.clip(y_true, 0, 1)\n",
    "    y_neg = 1 - y_pos\n",
    "    tp = K.sum(y_pos * y_pred_pos)\n",
    "    fp = K.sum(y_neg * y_pred_pos)\n",
    "    fn = K.sum(y_pos * y_pred_neg)\n",
    "    tn = K.sum(y_neg * y_pred_neg)\n",
    "    acc = (tp+tn + smooth) / (tp + tn + fn + fp + smooth)\n",
    "    return acc"
   ]
  },
  {
   "cell_type": "code",
   "execution_count": 6,
   "id": "9cc584e1-9bc9-4a61-9ed4-9c40cf97f1a9",
   "metadata": {},
   "outputs": [
    {
     "name": "stdout",
     "output_type": "stream",
     "text": [
      "Accuracy :  tf.Tensor(0.9683382, shape=(), dtype=float32)\n",
      "Precision :  tf.Tensor(0.6710816, shape=(), dtype=float32)\n",
      "Recall :  tf.Tensor(0.65509194, shape=(), dtype=float32)\n",
      "Dice :  tf.Tensor(0.6629896, shape=(), dtype=float32)\n",
      "IOU:  tf.Tensor(0.49587554, shape=(), dtype=float32)\n",
      "FNR:  tf.Tensor(0.3449124, shape=(), dtype=float32)\n",
      "FPR:  tf.Tensor(0.016026666, shape=(), dtype=float32)\n",
      "TNR:  tf.Tensor(0.98397356, shape=(), dtype=float32)\n",
      "TPR:  tf.Tensor(0.65509194, shape=(), dtype=float32)\n"
     ]
    }
   ],
   "source": [
    "loader = DataLoader(dataset=dataset, batch_size=99, shuffle=True)\n",
    "for x, y in loader:\n",
    "    \n",
    "    GT= x\n",
    "    SR= y\n",
    "\n",
    "    print(\"Accuracy : \", accuracy(SR,GT))\n",
    "    print(\"Precision : \", precision(SR,GT))\n",
    "    print(\"Recall : \", recall(SR,GT))\n",
    "    print(\"Dice : \", dice_coef(SR,GT))\n",
    "    print(\"IOU: \", jacard_coef(SR,GT))\n",
    "    print(\"FNR: \", false_negative(SR,GT))\n",
    "    print(\"FPR: \", false_positive(SR,GT))\n",
    "    print(\"TNR: \", true_negative(SR,GT))\n",
    "    print(\"TPR: \", true_positive(SR,GT))"
   ]
  }
 ],
 "metadata": {
  "colab": {
   "provenance": []
  },
  "kernelspec": {
   "display_name": "Python 3 (ipykernel)",
   "language": "python",
   "name": "python3"
  },
  "language_info": {
   "codemirror_mode": {
    "name": "ipython",
    "version": 3
   },
   "file_extension": ".py",
   "mimetype": "text/x-python",
   "name": "python",
   "nbconvert_exporter": "python",
   "pygments_lexer": "ipython3",
   "version": "3.7.11"
  }
 },
 "nbformat": 4,
 "nbformat_minor": 5
}
